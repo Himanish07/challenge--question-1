{
  "nbformat": 4,
  "nbformat_minor": 0,
  "metadata": {
    "colab": {
      "provenance": [],
      "authorship_tag": "ABX9TyPEuxQRXk65dFLTv6eSjsgD",
      "include_colab_link": true
    },
    "kernelspec": {
      "name": "python3",
      "display_name": "Python 3"
    },
    "language_info": {
      "name": "python"
    }
  },
  "cells": [
    {
      "cell_type": "markdown",
      "metadata": {
        "id": "view-in-github",
        "colab_type": "text"
      },
      "source": [
        "<a href=\"https://colab.research.google.com/github/Himanish07/challenge--question-1/blob/main/Copy_of_challenge_question_1.ipynb\" target=\"_parent\"><img src=\"https://colab.research.google.com/assets/colab-badge.svg\" alt=\"Open In Colab\"/></a>"
      ]
    },
    {
      "cell_type": "code",
      "execution_count": null,
      "metadata": {
        "colab": {
          "base_uri": "https://localhost:8080/"
        },
        "id": "ye5q0tiKs3gs",
        "outputId": "7da5e20c-78d4-4a35-f5fd-312362a6176b"
      },
      "outputs": [
        {
          "output_type": "stream",
          "name": "stdout",
          "text": [
            "['Ram', 1, 'Shyam', 2, 'Aman', 3]\n"
          ]
        }
      ],
      "source": [
        "L=[\"Ram\",1,\"Shyam\",2,\"Aman\",3]\n",
        "print(L)"
      ]
    },
    {
      "cell_type": "code",
      "source": [
        "L=[str(i) for i in L]\n",
        "L.sort()\n",
        "print(L)\n",
        "L1=[]\n",
        "for i in L:\n",
        "  try:\n",
        "    L1.append(int(i))\n",
        "  except:\n",
        "    L1.append(i)\n",
        "print(L1)\n",
        "\n"
      ],
      "metadata": {
        "colab": {
          "base_uri": "https://localhost:8080/"
        },
        "id": "jLzUDXCrtcX6",
        "outputId": "d52e3c2e-67dd-467d-cf05-0316b932b119"
      },
      "execution_count": null,
      "outputs": [
        {
          "output_type": "stream",
          "name": "stdout",
          "text": [
            "['1', '2', '3', 'Aman', 'Ram', 'Shyam']\n",
            "[1, 2, 3, 'Aman', 'Ram', 'Shyam']\n"
          ]
        }
      ]
    }
  ]
}